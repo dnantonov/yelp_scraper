{
 "cells": [
  {
   "cell_type": "markdown",
   "metadata": {},
   "source": [
    "### Import Packages"
   ]
  },
  {
   "cell_type": "code",
   "execution_count": 1,
   "metadata": {},
   "outputs": [],
   "source": [
    "from selenium import webdriver\n",
    "from selenium.webdriver.chrome.options import Options\n",
    "from selenium.webdriver.chrome.service import Service\n",
    "from selenium.webdriver.common.by import By\n",
    "from selenium.webdriver.common.keys import Keys\n",
    "import pandas as pd\n",
    "import time"
   ]
  },
  {
   "cell_type": "markdown",
   "metadata": {},
   "source": [
    "### Set Up"
   ]
  },
  {
   "cell_type": "code",
   "execution_count": 2,
   "metadata": {},
   "outputs": [],
   "source": [
    "## Setup chrome options\n",
    "chrome_options = Options()\n",
    "chrome_options.add_argument(\"--headless\") # Ensure GUI is off\n",
    "chrome_options.add_argument(\"--no-sandbox\")"
   ]
  },
  {
   "cell_type": "code",
   "execution_count": 3,
   "metadata": {},
   "outputs": [],
   "source": [
    "# Set path to chromedriver as per your configuration\n",
    "webdriver_service = Service(\"/home/twocb/chromedriver/stable/chromedriver\")"
   ]
  },
  {
   "cell_type": "code",
   "execution_count": 4,
   "metadata": {},
   "outputs": [],
   "source": [
    "# Choose Chrome Browser\n",
    "driver = webdriver.Chrome(service=webdriver_service, options=chrome_options)"
   ]
  },
  {
   "cell_type": "code",
   "execution_count": 5,
   "metadata": {},
   "outputs": [],
   "source": [
    "driver.get('https://www.yelp.com/search?find_desc=dentists&find_loc=San+Francisco%2C+CA&ns=1')"
   ]
  },
  {
   "cell_type": "markdown",
   "metadata": {},
   "source": [
    "### Target The Data We Want To Scrape"
   ]
  },
  {
   "cell_type": "code",
   "execution_count": 6,
   "metadata": {},
   "outputs": [],
   "source": [
    "# names\n",
    "names = driver.find_elements(By.XPATH, '//h4[@class=\"css-uvzfg9\"]/span/a')\n",
    "\n",
    "# expertise\n",
    "expertise = driver.find_elements(By.XPATH, '//p[@class=\"css-1gfe39a\"]')\n",
    "\n",
    "# stars\n",
    "stars = driver.find_elements(By.XPATH, '//div[@class=\" attribute__09f24__hqUj7 display--inline-block__09f24__fEDiJ margin-r1__09f24__rN_ga border-color--default__09f24__NPAKY\"]/span/div')\n",
    "\n",
    "# rating count\n",
    "rating_count = driver.find_elements(By.XPATH, '//span[@class=\"reviewCount__09f24__tnBk4 css-1e4fdj9\"]')\n",
    "\n",
    "# image urls\n",
    "img_urls = driver.find_elements(By.XPATH, '//a[@class=\"css-1lwccx4\"]/img')"
   ]
  },
  {
   "cell_type": "code",
   "execution_count": 7,
   "metadata": {},
   "outputs": [
    {
     "name": "stdout",
     "output_type": "stream",
     "text": [
      "https://s3-media0.fl.yelpcdn.com/bphoto/GE2K7vqWcMBv_yTMgXg54A/348s.jpg\n",
      "https://s3-media0.fl.yelpcdn.com/bphoto/e1tNKkgxAxZKxiMspaYsOA/348s.jpg\n",
      "https://s3-media0.fl.yelpcdn.com/bphoto/rzwQL3hnv7xeIVtyPlpcqw/348s.jpg\n",
      "https://s3-media0.fl.yelpcdn.com/bphoto/8ZjEhon2Y9zM-1efC_385A/348s.jpg\n",
      "https://s3-media0.fl.yelpcdn.com/bphoto/JfCqZBCiiHqncWWV9xV_bw/348s.jpg\n",
      "https://s3-media0.fl.yelpcdn.com/bphoto/01t1q9l5Ik6PZaPeVHNkyA/348s.jpg\n",
      "https://s3-media0.fl.yelpcdn.com/bphoto/2Eo2wcTTE7h_06rBhy-HiA/348s.jpg\n",
      "https://s3-media0.fl.yelpcdn.com/bphoto/CIbRijxjeWXBh-EYiKT9xg/348s.jpg\n",
      "https://s3-media0.fl.yelpcdn.com/bphoto/j7KTDpUQ_UcVS56sRBtaqQ/348s.jpg\n",
      "https://s3-media0.fl.yelpcdn.com/bphoto/36ZQ9Uq2hhdhhFKaOG_m9w/348s.jpg\n"
     ]
    }
   ],
   "source": [
    "for i in img_urls:\n",
    "    print(i.get_attribute('src'))\n",
    "\n",
    "# for s in stars:\n",
    "#     print(s.get_attribute('aria-label'))"
   ]
  },
  {
   "cell_type": "markdown",
   "metadata": {},
   "source": [
    "### Create Dataframe"
   ]
  },
  {
   "cell_type": "code",
   "execution_count": 9,
   "metadata": {},
   "outputs": [],
   "source": [
    "dentists_example = pd.DataFrame(columns=['Name', 'Expertise', 'Stars', 'Rating count', 'Image urls'])"
   ]
  },
  {
   "cell_type": "code",
   "execution_count": 10,
   "metadata": {},
   "outputs": [
    {
     "data": {
      "text/html": [
       "<div>\n",
       "<style scoped>\n",
       "    .dataframe tbody tr th:only-of-type {\n",
       "        vertical-align: middle;\n",
       "    }\n",
       "\n",
       "    .dataframe tbody tr th {\n",
       "        vertical-align: top;\n",
       "    }\n",
       "\n",
       "    .dataframe thead th {\n",
       "        text-align: right;\n",
       "    }\n",
       "</style>\n",
       "<table border=\"1\" class=\"dataframe\">\n",
       "  <thead>\n",
       "    <tr style=\"text-align: right;\">\n",
       "      <th></th>\n",
       "      <th>Name</th>\n",
       "      <th>Expertise</th>\n",
       "      <th>Stars</th>\n",
       "      <th>Rating count</th>\n",
       "      <th>Image urls</th>\n",
       "    </tr>\n",
       "  </thead>\n",
       "  <tbody>\n",
       "  </tbody>\n",
       "</table>\n",
       "</div>"
      ],
      "text/plain": [
       "Empty DataFrame\n",
       "Columns: [Name, Expertise, Stars, Rating count, Image urls]\n",
       "Index: []"
      ]
     },
     "execution_count": 10,
     "metadata": {},
     "output_type": "execute_result"
    }
   ],
   "source": [
    "dentists_example"
   ]
  },
  {
   "cell_type": "markdown",
   "metadata": {},
   "source": [
    "### Empty Lists"
   ]
  },
  {
   "cell_type": "markdown",
   "metadata": {},
   "source": [
    "1. Loop through the results\n",
    "2. Append the results in a list\n",
    "3. Use this lists as a value part for the dictionary (Remember: Dictionaries consist of Key-Value Pairs)\n",
    "3. Hand this Dictionary over to the Pandas Dataframe"
   ]
  },
  {
   "cell_type": "code",
   "execution_count": 11,
   "metadata": {},
   "outputs": [],
   "source": [
    "names_list = []\n",
    "expertise_list = []\n",
    "stars_list = []\n",
    "rating_count_list = []\n",
    "img_urls_list = []"
   ]
  },
  {
   "cell_type": "markdown",
   "metadata": {},
   "source": [
    "### Loop and Append to List"
   ]
  },
  {
   "cell_type": "code",
   "execution_count": 12,
   "metadata": {},
   "outputs": [],
   "source": [
    "for n in names:\n",
    "    names_list.append(n.text)\n",
    "\n",
    "for e in expertise:\n",
    "    expertise_list.append(e.text)\n",
    "\n",
    "for s in stars:\n",
    "    stars_list.append(s.get_attribute('aria-label'))\n",
    "\n",
    "for i in img_urls:\n",
    "    img_urls_list.append(i.get_attribute('src'))"
   ]
  },
  {
   "cell_type": "markdown",
   "metadata": {},
   "source": [
    "### Dictionary"
   ]
  },
  {
   "cell_type": "code",
   "execution_count": 13,
   "metadata": {},
   "outputs": [],
   "source": [
    "dent_dictionary = {'Name': names_list, 'Expertise': expertise_list, \n",
    "                   'Stars': stars_list, 'Img URL': img_urls_list}"
   ]
  },
  {
   "cell_type": "markdown",
   "metadata": {},
   "source": [
    "### Dictionary to Pandas Dataframe"
   ]
  },
  {
   "cell_type": "code",
   "execution_count": 14,
   "metadata": {},
   "outputs": [],
   "source": [
    "df = pd.DataFrame.from_dict(dent_dictionary)"
   ]
  },
  {
   "cell_type": "code",
   "execution_count": 15,
   "metadata": {},
   "outputs": [
    {
     "data": {
      "text/html": [
       "<div>\n",
       "<style scoped>\n",
       "    .dataframe tbody tr th:only-of-type {\n",
       "        vertical-align: middle;\n",
       "    }\n",
       "\n",
       "    .dataframe tbody tr th {\n",
       "        vertical-align: top;\n",
       "    }\n",
       "\n",
       "    .dataframe thead th {\n",
       "        text-align: right;\n",
       "    }\n",
       "</style>\n",
       "<table border=\"1\" class=\"dataframe\">\n",
       "  <thead>\n",
       "    <tr style=\"text-align: right;\">\n",
       "      <th></th>\n",
       "      <th>Name</th>\n",
       "      <th>Expertise</th>\n",
       "      <th>Stars</th>\n",
       "      <th>Img URL</th>\n",
       "    </tr>\n",
       "  </thead>\n",
       "  <tbody>\n",
       "    <tr>\n",
       "      <th>0</th>\n",
       "      <td>All Smiles Dental</td>\n",
       "      <td>General Dentistry\\nEndodontists\\nOrthodontists...</td>\n",
       "      <td>5 star rating</td>\n",
       "      <td>https://s3-media0.fl.yelpcdn.com/bphoto/GE2K7v...</td>\n",
       "    </tr>\n",
       "    <tr>\n",
       "      <th>1</th>\n",
       "      <td>Pacific Heights Dental Studio</td>\n",
       "      <td>General Dentistry\\nCosmetic Dentists\\nPeriodon...</td>\n",
       "      <td>4.5 star rating</td>\n",
       "      <td>https://s3-media0.fl.yelpcdn.com/bphoto/e1tNKk...</td>\n",
       "    </tr>\n",
       "    <tr>\n",
       "      <th>2</th>\n",
       "      <td>Afshin Rahimi DMD</td>\n",
       "      <td>General Dentistry\\nCosmetic Dentists\\nPacific ...</td>\n",
       "      <td>5 star rating</td>\n",
       "      <td>https://s3-media0.fl.yelpcdn.com/bphoto/rzwQL3...</td>\n",
       "    </tr>\n",
       "    <tr>\n",
       "      <th>3</th>\n",
       "      <td>Mission Dental Group SF</td>\n",
       "      <td>Cosmetic Dentists\\nGeneral Dentistry\\nPediatri...</td>\n",
       "      <td>5 star rating</td>\n",
       "      <td>https://s3-media0.fl.yelpcdn.com/bphoto/8ZjEho...</td>\n",
       "    </tr>\n",
       "    <tr>\n",
       "      <th>4</th>\n",
       "      <td>Golden Gate Dental</td>\n",
       "      <td>Cosmetic Dentists\\nGeneral Dentistry\\nInner Ri...</td>\n",
       "      <td>5 star rating</td>\n",
       "      <td>https://s3-media0.fl.yelpcdn.com/bphoto/JfCqZB...</td>\n",
       "    </tr>\n",
       "    <tr>\n",
       "      <th>5</th>\n",
       "      <td>Zen Dental Studio</td>\n",
       "      <td>General Dentistry\\nCosmetic Dentists\\nOrthodon...</td>\n",
       "      <td>5 star rating</td>\n",
       "      <td>https://s3-media0.fl.yelpcdn.com/bphoto/01t1q9...</td>\n",
       "    </tr>\n",
       "    <tr>\n",
       "      <th>6</th>\n",
       "      <td>Pastel Dental</td>\n",
       "      <td>Cosmetic Dentists\\nEndodontists\\nGeneral Denti...</td>\n",
       "      <td>5 star rating</td>\n",
       "      <td>https://s3-media0.fl.yelpcdn.com/bphoto/2Eo2wc...</td>\n",
       "    </tr>\n",
       "    <tr>\n",
       "      <th>7</th>\n",
       "      <td>Robert Phong Ho, DDS</td>\n",
       "      <td>General Dentistry\\nInner Richmond</td>\n",
       "      <td>5 star rating</td>\n",
       "      <td>https://s3-media0.fl.yelpcdn.com/bphoto/CIbRij...</td>\n",
       "    </tr>\n",
       "    <tr>\n",
       "      <th>8</th>\n",
       "      <td>Washington Square Park Dental</td>\n",
       "      <td>General Dentistry\\nCosmetic Dentists\\nOral Sur...</td>\n",
       "      <td>4.5 star rating</td>\n",
       "      <td>https://s3-media0.fl.yelpcdn.com/bphoto/j7KTDp...</td>\n",
       "    </tr>\n",
       "    <tr>\n",
       "      <th>9</th>\n",
       "      <td>Jeremy J Velasco, DDS</td>\n",
       "      <td>General Dentistry\\nCosmetic Dentists\\nUnion Sq...</td>\n",
       "      <td>5 star rating</td>\n",
       "      <td>https://s3-media0.fl.yelpcdn.com/bphoto/36ZQ9U...</td>\n",
       "    </tr>\n",
       "  </tbody>\n",
       "</table>\n",
       "</div>"
      ],
      "text/plain": [
       "                            Name  \\\n",
       "0              All Smiles Dental   \n",
       "1  Pacific Heights Dental Studio   \n",
       "2              Afshin Rahimi DMD   \n",
       "3        Mission Dental Group SF   \n",
       "4             Golden Gate Dental   \n",
       "5              Zen Dental Studio   \n",
       "6                  Pastel Dental   \n",
       "7           Robert Phong Ho, DDS   \n",
       "8  Washington Square Park Dental   \n",
       "9          Jeremy J Velasco, DDS   \n",
       "\n",
       "                                           Expertise            Stars  \\\n",
       "0  General Dentistry\\nEndodontists\\nOrthodontists...    5 star rating   \n",
       "1  General Dentistry\\nCosmetic Dentists\\nPeriodon...  4.5 star rating   \n",
       "2  General Dentistry\\nCosmetic Dentists\\nPacific ...    5 star rating   \n",
       "3  Cosmetic Dentists\\nGeneral Dentistry\\nPediatri...    5 star rating   \n",
       "4  Cosmetic Dentists\\nGeneral Dentistry\\nInner Ri...    5 star rating   \n",
       "5  General Dentistry\\nCosmetic Dentists\\nOrthodon...    5 star rating   \n",
       "6  Cosmetic Dentists\\nEndodontists\\nGeneral Denti...    5 star rating   \n",
       "7                  General Dentistry\\nInner Richmond    5 star rating   \n",
       "8  General Dentistry\\nCosmetic Dentists\\nOral Sur...  4.5 star rating   \n",
       "9  General Dentistry\\nCosmetic Dentists\\nUnion Sq...    5 star rating   \n",
       "\n",
       "                                             Img URL  \n",
       "0  https://s3-media0.fl.yelpcdn.com/bphoto/GE2K7v...  \n",
       "1  https://s3-media0.fl.yelpcdn.com/bphoto/e1tNKk...  \n",
       "2  https://s3-media0.fl.yelpcdn.com/bphoto/rzwQL3...  \n",
       "3  https://s3-media0.fl.yelpcdn.com/bphoto/8ZjEho...  \n",
       "4  https://s3-media0.fl.yelpcdn.com/bphoto/JfCqZB...  \n",
       "5  https://s3-media0.fl.yelpcdn.com/bphoto/01t1q9...  \n",
       "6  https://s3-media0.fl.yelpcdn.com/bphoto/2Eo2wc...  \n",
       "7  https://s3-media0.fl.yelpcdn.com/bphoto/CIbRij...  \n",
       "8  https://s3-media0.fl.yelpcdn.com/bphoto/j7KTDp...  \n",
       "9  https://s3-media0.fl.yelpcdn.com/bphoto/36ZQ9U...  "
      ]
     },
     "execution_count": 15,
     "metadata": {},
     "output_type": "execute_result"
    }
   ],
   "source": [
    "df"
   ]
  },
  {
   "cell_type": "markdown",
   "metadata": {},
   "source": [
    "### Clean the Data"
   ]
  },
  {
   "cell_type": "code",
   "execution_count": null,
   "metadata": {},
   "outputs": [],
   "source": []
  },
  {
   "cell_type": "markdown",
   "metadata": {},
   "source": [
    "### Save Data in Excel"
   ]
  },
  {
   "cell_type": "code",
   "execution_count": null,
   "metadata": {},
   "outputs": [],
   "source": []
  }
 ],
 "metadata": {
  "kernelspec": {
   "display_name": "Python 3",
   "language": "python",
   "name": "python3"
  },
  "language_info": {
   "codemirror_mode": {
    "name": "ipython",
    "version": 3
   },
   "file_extension": ".py",
   "mimetype": "text/x-python",
   "name": "python",
   "nbconvert_exporter": "python",
   "pygments_lexer": "ipython3",
   "version": "3.9.5"
  }
 },
 "nbformat": 4,
 "nbformat_minor": 4
}
