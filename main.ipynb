{
 "cells": [
  {
   "cell_type": "markdown",
   "metadata": {},
   "source": [
    "### Import Packages"
   ]
  },
  {
   "cell_type": "code",
   "execution_count": 1,
   "metadata": {},
   "outputs": [],
   "source": [
    "from selenium import webdriver\n",
    "from selenium.webdriver.chrome.options import Options\n",
    "from selenium.webdriver.chrome.service import Service\n",
    "from selenium.webdriver.common.by import By\n",
    "from selenium.webdriver.common.keys import Keys\n",
    "import pandas as pd\n",
    "import time"
   ]
  },
  {
   "cell_type": "markdown",
   "metadata": {},
   "source": [
    "### Set Up"
   ]
  },
  {
   "cell_type": "code",
   "execution_count": 2,
   "metadata": {},
   "outputs": [],
   "source": [
    "## Setup chrome options\n",
    "chrome_options = Options()\n",
    "chrome_options.add_argument(\"--headless\") # Ensure GUI is off\n",
    "chrome_options.add_argument(\"--no-sandbox\")"
   ]
  },
  {
   "cell_type": "code",
   "execution_count": 3,
   "metadata": {},
   "outputs": [],
   "source": [
    "# Set path to chromedriver as per your configuration\n",
    "webdriver_service = Service(\"/home/twocb/chromedriver/stable/chromedriver\")"
   ]
  },
  {
   "cell_type": "code",
   "execution_count": 4,
   "metadata": {},
   "outputs": [],
   "source": [
    "# Choose Chrome Browser\n",
    "driver = webdriver.Chrome(service=webdriver_service, options=chrome_options)"
   ]
  },
  {
   "cell_type": "code",
   "execution_count": 9,
   "metadata": {},
   "outputs": [],
   "source": [
    "driver.get('https://www.yelp.com/search?find_desc=dentists&find_loc=San+Francisco%2C+CA&ns=1')"
   ]
  },
  {
   "cell_type": "markdown",
   "metadata": {},
   "source": [
    "### Target The Data We Want To Scrape"
   ]
  },
  {
   "cell_type": "code",
   "execution_count": 25,
   "metadata": {},
   "outputs": [],
   "source": [
    "# names\n",
    "names = driver.find_elements(By.XPATH, '//h4[@class=\"css-uvzfg9\"]/span/a')\n",
    "\n",
    "# expertise\n",
    "expertise = driver.find_elements(By.XPATH, '//div[@class=\" border-color--default__09f24__NPAKY\"]/div/div/div/p/span/a')\n",
    "\n",
    "# stars\n",
    "stars = driver.find_elements(By.XPATH, '//div[@class=\" attribute__09f24__hqUj7 display--inline-block__09f24__fEDiJ margin-r1__09f24__rN_ga border-color--default__09f24__NPAKY\"]/span/div')\n",
    "\n",
    "# rating count\n",
    "rating_count = driver.find_elements(By.XPATH, '//span[@class=\"reviewCount__09f24__tnBk4 css-1e4fdj9\"]')\n",
    "\n",
    "# image urls\n",
    "img_urls = driver.find_elements(By.XPATH, '//a[@class=\"css-1lwccx4\"]/img')"
   ]
  },
  {
   "cell_type": "code",
   "execution_count": 27,
   "metadata": {},
   "outputs": [
    {
     "name": "stdout",
     "output_type": "stream",
     "text": [
      "https://s3-media0.fl.yelpcdn.com/bphoto/GE2K7vqWcMBv_yTMgXg54A/348s.jpg\n",
      "https://s3-media0.fl.yelpcdn.com/bphoto/e1tNKkgxAxZKxiMspaYsOA/348s.jpg\n",
      "https://s3-media0.fl.yelpcdn.com/bphoto/rzwQL3hnv7xeIVtyPlpcqw/348s.jpg\n",
      "https://s3-media0.fl.yelpcdn.com/bphoto/8ZjEhon2Y9zM-1efC_385A/348s.jpg\n",
      "https://s3-media0.fl.yelpcdn.com/bphoto/JfCqZBCiiHqncWWV9xV_bw/348s.jpg\n",
      "https://s3-media0.fl.yelpcdn.com/bphoto/01t1q9l5Ik6PZaPeVHNkyA/348s.jpg\n",
      "https://s3-media0.fl.yelpcdn.com/bphoto/2Eo2wcTTE7h_06rBhy-HiA/348s.jpg\n",
      "https://s3-media0.fl.yelpcdn.com/bphoto/CIbRijxjeWXBh-EYiKT9xg/348s.jpg\n",
      "https://s3-media0.fl.yelpcdn.com/bphoto/z8ofxPAXkMm9T__77_5H0A/348s.jpg\n",
      "https://s3-media0.fl.yelpcdn.com/bphoto/j7KTDpUQ_UcVS56sRBtaqQ/348s.jpg\n"
     ]
    }
   ],
   "source": [
    "for i in img_urls:\n",
    "    print(i.get_attribute('src'))\n",
    "\n",
    "# for s in stars:\n",
    "#     print(s.get_attribute('aria-label'))"
   ]
  },
  {
   "cell_type": "code",
   "execution_count": 8,
   "metadata": {},
   "outputs": [
    {
     "data": {
      "text/plain": [
       "10"
      ]
     },
     "execution_count": 8,
     "metadata": {},
     "output_type": "execute_result"
    }
   ],
   "source": [
    "len(names)"
   ]
  },
  {
   "cell_type": "markdown",
   "metadata": {},
   "source": [
    "### Create Dataframe"
   ]
  },
  {
   "cell_type": "code",
   "execution_count": null,
   "metadata": {},
   "outputs": [],
   "source": []
  },
  {
   "cell_type": "code",
   "execution_count": null,
   "metadata": {},
   "outputs": [],
   "source": []
  },
  {
   "cell_type": "markdown",
   "metadata": {},
   "source": [
    "### Empty Lists"
   ]
  },
  {
   "cell_type": "markdown",
   "metadata": {},
   "source": [
    "1. Loop through the results\n",
    "2. Append the results in a list\n",
    "3. Use this lists as a value part for the dictionary (Remember: Dictionaries consist of Key-Value Pairs)\n",
    "3. Hand this Dictionary over to the Pandas Dataframe"
   ]
  },
  {
   "cell_type": "code",
   "execution_count": null,
   "metadata": {},
   "outputs": [],
   "source": []
  },
  {
   "cell_type": "markdown",
   "metadata": {},
   "source": [
    "### Loop and Append to List"
   ]
  },
  {
   "cell_type": "code",
   "execution_count": null,
   "metadata": {},
   "outputs": [],
   "source": []
  },
  {
   "cell_type": "markdown",
   "metadata": {},
   "source": [
    "### Dictionary"
   ]
  },
  {
   "cell_type": "code",
   "execution_count": null,
   "metadata": {},
   "outputs": [],
   "source": []
  },
  {
   "cell_type": "markdown",
   "metadata": {},
   "source": [
    "### Dictionary to Pandas Dataframe"
   ]
  },
  {
   "cell_type": "code",
   "execution_count": null,
   "metadata": {},
   "outputs": [],
   "source": []
  },
  {
   "cell_type": "markdown",
   "metadata": {},
   "source": [
    "### Clean the Data"
   ]
  },
  {
   "cell_type": "code",
   "execution_count": null,
   "metadata": {},
   "outputs": [],
   "source": []
  },
  {
   "cell_type": "markdown",
   "metadata": {},
   "source": [
    "### Save Data in Excel"
   ]
  },
  {
   "cell_type": "code",
   "execution_count": null,
   "metadata": {},
   "outputs": [],
   "source": []
  }
 ],
 "metadata": {
  "kernelspec": {
   "display_name": "Python 3",
   "language": "python",
   "name": "python3"
  },
  "language_info": {
   "codemirror_mode": {
    "name": "ipython",
    "version": 3
   },
   "file_extension": ".py",
   "mimetype": "text/x-python",
   "name": "python",
   "nbconvert_exporter": "python",
   "pygments_lexer": "ipython3",
   "version": "3.9.5"
  }
 },
 "nbformat": 4,
 "nbformat_minor": 4
}
